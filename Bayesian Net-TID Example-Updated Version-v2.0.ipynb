{
 "cells": [
  {
   "cell_type": "markdown",
   "id": "ed21b0e0",
   "metadata": {},
   "source": [
    "# Please Switch your kernel (under kernel tab) to bayesian-net"
   ]
  },
  {
   "cell_type": "code",
   "execution_count": 1,
   "id": "e3401ee9",
   "metadata": {},
   "outputs": [],
   "source": [
    "from pgmpy.models import BayesianModel,BayesianNetwork \n",
    "from sklearn.tree import DecisionTreeClassifier\n",
    "from sklearn.preprocessing import LabelEncoder, label_binarize\n",
    "from sklearn.model_selection import train_test_split\n",
    "from sklearn.metrics import mean_absolute_error, mean_absolute_percentage_error, accuracy_score, mean_squared_error,precision_recall_fscore_support, confusion_matrix, roc_auc_score, roc_curve, auc\n",
    "from pgmpy.factors.discrete import TabularCPD\n",
    "from pgmpy.estimators import MaximumLikelihoodEstimator, BayesianEstimator, ExpectationMaximization, IVEstimator\n",
    "from pgmpy.inference import VariableElimination, BeliefPropagation\n",
    "import bnlearn as bn\n",
    "import networkx as nx\n",
    "from networkx.drawing.nx_agraph import write_dot, graphviz_layout\n",
    "import pandas as pd\n",
    "import numpy as np\n",
    "import copy\n",
    "import matplotlib.pyplot as plt\n",
    "import matplotlib.image as mpimg\n",
    "import random"
   ]
  },
  {
   "cell_type": "code",
   "execution_count": 2,
   "id": "449bce02",
   "metadata": {},
   "outputs": [],
   "source": [
    "#If you still have trouble importing above packages, please try to manually install following packages, otherwise, you can skip this step\n",
    "#pip install pgmpy==0.1.23"
   ]
  },
  {
   "cell_type": "code",
   "execution_count": 3,
   "id": "6ed3061b",
   "metadata": {},
   "outputs": [],
   "source": [
    "#If you still have trouble importing above packages, please try to manually install following packages, otherwise, you can skip this step\n",
    "#pip install bnlearn==0.8.2"
   ]
  },
  {
   "cell_type": "markdown",
   "id": "80c957b9",
   "metadata": {},
   "source": [
    "# Read Data"
   ]
  },
  {
   "cell_type": "code",
   "execution_count": 73,
   "id": "2bb8c35b",
   "metadata": {},
   "outputs": [],
   "source": [
    "crash = pd.read_csv('data/crash_BNExamples.csv').reset_index().iloc[:,1:]\n",
    "crash = crash.loc[(crash['Duration (min)']>0)&(crash['Duration (min)']<=150)].reset_index()\n",
    "crash['Duration_class'] = pd.cut(crash['Duration (min)'], [0,30,60,90,120], right=True, labels=[0,1,2,3])\n",
    "crash = crash.dropna()\n",
    "#target_var = 'Duration (min)'\n",
    "target_var = 'Duration_class'\n",
    "\n",
    "column_clear = ['Start Date Time','Direction','County', 'TOD', 'PeakHour',\n",
    "       'DayofWeek', 'SeasonofYear', 'Injury involved', 'Truck involved','Lane Closure Type',\n",
    "       'Fire involved', target_var]\n",
    "\n",
    "crash['Start Date Time'] = pd.to_datetime(crash['Start Date Time'])\n",
    "\n",
    "#data = crash[crash['Start Date Time'].dt.year.isin([2021])].iloc[:,1:]\n",
    "\n",
    "data = crash[column_clear].iloc[:,1:]"
   ]
  },
  {
   "cell_type": "code",
   "execution_count": 74,
   "id": "c1f87640",
   "metadata": {},
   "outputs": [],
   "source": [
    "train, test = train_test_split(data, test_size=0.25, random_state=9)"
   ]
  },
  {
   "cell_type": "code",
   "execution_count": 75,
   "id": "f6317aae",
   "metadata": {},
   "outputs": [],
   "source": [
    "train_target = train.pop('Duration_class')"
   ]
  },
  {
   "cell_type": "code",
   "execution_count": 76,
   "id": "20c85b71",
   "metadata": {},
   "outputs": [
    {
     "data": {
      "text/html": [
       "<div>\n",
       "<style scoped>\n",
       "    .dataframe tbody tr th:only-of-type {\n",
       "        vertical-align: middle;\n",
       "    }\n",
       "\n",
       "    .dataframe tbody tr th {\n",
       "        vertical-align: top;\n",
       "    }\n",
       "\n",
       "    .dataframe thead th {\n",
       "        text-align: right;\n",
       "    }\n",
       "</style>\n",
       "<table border=\"1\" class=\"dataframe\">\n",
       "  <thead>\n",
       "    <tr style=\"text-align: right;\">\n",
       "      <th></th>\n",
       "      <th>Direction</th>\n",
       "      <th>County</th>\n",
       "      <th>TOD</th>\n",
       "      <th>PeakHour</th>\n",
       "      <th>DayofWeek</th>\n",
       "      <th>SeasonofYear</th>\n",
       "      <th>Injury involved</th>\n",
       "      <th>Truck involved</th>\n",
       "      <th>Lane Closure Type</th>\n",
       "      <th>Fire involved</th>\n",
       "      <th>Duration_class</th>\n",
       "    </tr>\n",
       "  </thead>\n",
       "  <tbody>\n",
       "    <tr>\n",
       "      <th>1058</th>\n",
       "      <td>3</td>\n",
       "      <td>2</td>\n",
       "      <td>0</td>\n",
       "      <td>1</td>\n",
       "      <td>0</td>\n",
       "      <td>1</td>\n",
       "      <td>0</td>\n",
       "      <td>0</td>\n",
       "      <td>1</td>\n",
       "      <td>0</td>\n",
       "      <td>0</td>\n",
       "    </tr>\n",
       "    <tr>\n",
       "      <th>1016</th>\n",
       "      <td>2</td>\n",
       "      <td>1</td>\n",
       "      <td>0</td>\n",
       "      <td>1</td>\n",
       "      <td>0</td>\n",
       "      <td>0</td>\n",
       "      <td>0</td>\n",
       "      <td>0</td>\n",
       "      <td>1</td>\n",
       "      <td>0</td>\n",
       "      <td>0</td>\n",
       "    </tr>\n",
       "    <tr>\n",
       "      <th>139</th>\n",
       "      <td>3</td>\n",
       "      <td>3</td>\n",
       "      <td>0</td>\n",
       "      <td>1</td>\n",
       "      <td>0</td>\n",
       "      <td>0</td>\n",
       "      <td>0</td>\n",
       "      <td>0</td>\n",
       "      <td>2</td>\n",
       "      <td>0</td>\n",
       "      <td>0</td>\n",
       "    </tr>\n",
       "    <tr>\n",
       "      <th>1157</th>\n",
       "      <td>2</td>\n",
       "      <td>1</td>\n",
       "      <td>1</td>\n",
       "      <td>0</td>\n",
       "      <td>1</td>\n",
       "      <td>1</td>\n",
       "      <td>0</td>\n",
       "      <td>0</td>\n",
       "      <td>1</td>\n",
       "      <td>0</td>\n",
       "      <td>0</td>\n",
       "    </tr>\n",
       "    <tr>\n",
       "      <th>606</th>\n",
       "      <td>2</td>\n",
       "      <td>0</td>\n",
       "      <td>0</td>\n",
       "      <td>0</td>\n",
       "      <td>0</td>\n",
       "      <td>0</td>\n",
       "      <td>0</td>\n",
       "      <td>0</td>\n",
       "      <td>1</td>\n",
       "      <td>0</td>\n",
       "      <td>0</td>\n",
       "    </tr>\n",
       "    <tr>\n",
       "      <th>...</th>\n",
       "      <td>...</td>\n",
       "      <td>...</td>\n",
       "      <td>...</td>\n",
       "      <td>...</td>\n",
       "      <td>...</td>\n",
       "      <td>...</td>\n",
       "      <td>...</td>\n",
       "      <td>...</td>\n",
       "      <td>...</td>\n",
       "      <td>...</td>\n",
       "      <td>...</td>\n",
       "    </tr>\n",
       "    <tr>\n",
       "      <th>3971</th>\n",
       "      <td>3</td>\n",
       "      <td>3</td>\n",
       "      <td>0</td>\n",
       "      <td>1</td>\n",
       "      <td>0</td>\n",
       "      <td>0</td>\n",
       "      <td>1</td>\n",
       "      <td>1</td>\n",
       "      <td>1</td>\n",
       "      <td>0</td>\n",
       "      <td>1</td>\n",
       "    </tr>\n",
       "    <tr>\n",
       "      <th>3080</th>\n",
       "      <td>4</td>\n",
       "      <td>3</td>\n",
       "      <td>1</td>\n",
       "      <td>0</td>\n",
       "      <td>1</td>\n",
       "      <td>0</td>\n",
       "      <td>1</td>\n",
       "      <td>1</td>\n",
       "      <td>2</td>\n",
       "      <td>0</td>\n",
       "      <td>1</td>\n",
       "    </tr>\n",
       "    <tr>\n",
       "      <th>693</th>\n",
       "      <td>3</td>\n",
       "      <td>3</td>\n",
       "      <td>0</td>\n",
       "      <td>0</td>\n",
       "      <td>0</td>\n",
       "      <td>1</td>\n",
       "      <td>0</td>\n",
       "      <td>0</td>\n",
       "      <td>2</td>\n",
       "      <td>0</td>\n",
       "      <td>0</td>\n",
       "    </tr>\n",
       "    <tr>\n",
       "      <th>1102</th>\n",
       "      <td>4</td>\n",
       "      <td>1</td>\n",
       "      <td>0</td>\n",
       "      <td>1</td>\n",
       "      <td>0</td>\n",
       "      <td>2</td>\n",
       "      <td>0</td>\n",
       "      <td>0</td>\n",
       "      <td>1</td>\n",
       "      <td>0</td>\n",
       "      <td>0</td>\n",
       "    </tr>\n",
       "    <tr>\n",
       "      <th>4900</th>\n",
       "      <td>1</td>\n",
       "      <td>1</td>\n",
       "      <td>0</td>\n",
       "      <td>0</td>\n",
       "      <td>0</td>\n",
       "      <td>0</td>\n",
       "      <td>0</td>\n",
       "      <td>1</td>\n",
       "      <td>1</td>\n",
       "      <td>1</td>\n",
       "      <td>2</td>\n",
       "    </tr>\n",
       "  </tbody>\n",
       "</table>\n",
       "<p>4233 rows × 11 columns</p>\n",
       "</div>"
      ],
      "text/plain": [
       "      Direction  County  TOD  PeakHour  DayofWeek  SeasonofYear  \\\n",
       "1058          3       2    0         1          0             1   \n",
       "1016          2       1    0         1          0             0   \n",
       "139           3       3    0         1          0             0   \n",
       "1157          2       1    1         0          1             1   \n",
       "606           2       0    0         0          0             0   \n",
       "...         ...     ...  ...       ...        ...           ...   \n",
       "3971          3       3    0         1          0             0   \n",
       "3080          4       3    1         0          1             0   \n",
       "693           3       3    0         0          0             1   \n",
       "1102          4       1    0         1          0             2   \n",
       "4900          1       1    0         0          0             0   \n",
       "\n",
       "      Injury involved  Truck involved  Lane Closure Type  Fire involved  \\\n",
       "1058                0               0                  1              0   \n",
       "1016                0               0                  1              0   \n",
       "139                 0               0                  2              0   \n",
       "1157                0               0                  1              0   \n",
       "606                 0               0                  1              0   \n",
       "...               ...             ...                ...            ...   \n",
       "3971                1               1                  1              0   \n",
       "3080                1               1                  2              0   \n",
       "693                 0               0                  2              0   \n",
       "1102                0               0                  1              0   \n",
       "4900                0               1                  1              1   \n",
       "\n",
       "     Duration_class  \n",
       "1058              0  \n",
       "1016              0  \n",
       "139               0  \n",
       "1157              0  \n",
       "606               0  \n",
       "...             ...  \n",
       "3971              1  \n",
       "3080              1  \n",
       "693               0  \n",
       "1102              0  \n",
       "4900              2  \n",
       "\n",
       "[4233 rows x 11 columns]"
      ]
     },
     "execution_count": 76,
     "metadata": {},
     "output_type": "execute_result"
    }
   ],
   "source": [
    "Xtrain, Xval, ytrain, yval = train_test_split(train, train_target, test_size=0.1, random_state=0)\n",
    "valid = pd.concat([Xval, yval], axis='columns')\n",
    "dfnum = pd.concat([Xtrain, ytrain], axis='columns')\n",
    "dfnum"
   ]
  },
  {
   "cell_type": "markdown",
   "id": "4280a824",
   "metadata": {},
   "source": [
    "# Define Performance Metric: Accuracy Score, Precision, Recall, F1-Measurement"
   ]
  },
  {
   "cell_type": "code",
   "execution_count": 77,
   "id": "9a16cd69",
   "metadata": {},
   "outputs": [],
   "source": [
    "#Get accuracy for classification task\n",
    "def get_acc(model, df, col):\n",
    "    #pred = model.predict(df[DAG['adjmat'].columns.values].iloc[:,:-1])\n",
    "    pred = model.predict(df.iloc[:,:-1])\n",
    "    print(pred)\n",
    "    acc = accuracy_score(df[col], pred)\n",
    "    print('Accuracy -', acc)\n",
    "    return acc"
   ]
  },
  {
   "cell_type": "code",
   "execution_count": 78,
   "id": "9fd7f0ef",
   "metadata": {},
   "outputs": [],
   "source": [
    "def get_acc_label(model, df, col, labels):\n",
    "    #pred = model.predict(df[DAG['adjmat'].columns.values].iloc[:,:-1])\n",
    "    pred = model.predict(df.iloc[:,:-1])\n",
    "    print(pred)\n",
    "    acc = precision_recall_fscore_support(df[col], pred, average=None, labels=labels)\n",
    "    print('precision, recall, f1 -', acc)\n",
    "    return acc"
   ]
  },
  {
   "cell_type": "markdown",
   "id": "bcde8bae",
   "metadata": {},
   "source": [
    "# Bayesian Network"
   ]
  },
  {
   "cell_type": "markdown",
   "id": "ada7c6fa",
   "metadata": {},
   "source": [
    "# Structure Learning"
   ]
  },
  {
   "cell_type": "code",
   "execution_count": 79,
   "id": "6af183d5",
   "metadata": {
    "scrolled": true
   },
   "outputs": [
    {
     "name": "stdout",
     "output_type": "stream",
     "text": [
      "[bnlearn] >Warning: Computing DAG with 11 nodes can take a very long time!\n",
      "[bnlearn] >Computing best DAG using [chow-liu]\n"
     ]
    },
    {
     "data": {
      "application/vnd.jupyter.widget-view+json": {
       "model_id": "8bce604654cc4da3991f34c7f856dbbe",
       "version_major": 2,
       "version_minor": 0
      },
      "text/plain": [
       "Building tree:   0%|          | 0/55.0 [00:00<?, ?it/s]"
      ]
     },
     "metadata": {},
     "output_type": "display_data"
    },
    {
     "name": "stdout",
     "output_type": "stream",
     "text": [
      "[bnlearn] >Compute structure scores for model comparison (higher is better).\n"
     ]
    }
   ],
   "source": [
    "# Structure learning\n",
    "DAG = bn.structure_learning.fit(dfnum, methodtype='cl', root_node='Duration_class', bw_list_method='nodes', verbose=3)\n",
    "#DAG = bn.structure_learning.fit(data,methodtype='cl', scoretype='bdeu')\n",
    "#DAG = bn.structure_learning.fit(data,methodtype='naivebayes', scoretype='bdeu', root_node='Duration_class')\n"
   ]
  },
  {
   "cell_type": "code",
   "execution_count": 80,
   "id": "6b29ce62",
   "metadata": {},
   "outputs": [
    {
     "data": {
      "text/plain": [
       "[('Duration_class', 'Truck involved'),\n",
       " ('Duration_class', 'Injury involved'),\n",
       " ('Duration_class', 'Fire involved'),\n",
       " ('Duration_class', 'Direction'),\n",
       " ('Direction', 'County'),\n",
       " ('Direction', 'Lane Closure Type'),\n",
       " ('Lane Closure Type', 'TOD'),\n",
       " ('Lane Closure Type', 'SeasonofYear'),\n",
       " ('TOD', 'PeakHour'),\n",
       " ('TOD', 'DayofWeek')]"
      ]
     },
     "execution_count": 80,
     "metadata": {},
     "output_type": "execute_result"
    }
   ],
   "source": [
    "#model.edges()\n",
    "DAG['model_edges']"
   ]
  },
  {
   "cell_type": "code",
   "execution_count": 81,
   "id": "51b6df02",
   "metadata": {},
   "outputs": [],
   "source": [
    "#Define plotting method for hierarchy graph\n",
    "\n",
    "def hierarchy_pos(G, root=None, width=1., vert_gap = 0.2, vert_loc = 0, xcenter = 0.5):\n",
    "\n",
    "    '''\n",
    "    If the graph is a tree this will return the positions to plot this in a \n",
    "    hierarchical layout.\n",
    "    \n",
    "    G: the graph (must be a tree)\n",
    "    \n",
    "    root: the root node of current branch \n",
    "    - if the tree is directed and this is not given, \n",
    "      the root will be found and used\n",
    "    - if the tree is directed and this is given, then \n",
    "      the positions will be just for the descendants of this node.\n",
    "    - if the tree is undirected and not given, \n",
    "      then a random choice will be used.\n",
    "    \n",
    "    width: horizontal space allocated for this branch - avoids overlap with other branches\n",
    "    \n",
    "    vert_gap: gap between levels of hierarchy\n",
    "    \n",
    "    vert_loc: vertical location of root\n",
    "    \n",
    "    xcenter: horizontal location of root\n",
    "    '''\n",
    "    if not nx.is_tree(G):\n",
    "        raise TypeError('cannot use hierarchy_pos on a graph that is not a tree')\n",
    "\n",
    "    if root is None:\n",
    "        if isinstance(G, nx.DiGraph):\n",
    "            root = next(iter(nx.topological_sort(G)))  #allows back compatibility with nx version 1.11\n",
    "        else:\n",
    "            root = random.choice(list(G.nodes))\n",
    "\n",
    "    def _hierarchy_pos(G, root, width=1., vert_gap = 0.2, vert_loc = 0, xcenter = 0.5, pos = None, parent = None):\n",
    "        '''\n",
    "        see hierarchy_pos docstring for most arguments\n",
    "\n",
    "        pos: a dict saying where all nodes go if they have been assigned\n",
    "        parent: parent of this branch. - only affects it if non-directed\n",
    "\n",
    "        '''\n",
    "    \n",
    "        if pos is None:\n",
    "            pos = {root:(xcenter,vert_loc)}\n",
    "        else:\n",
    "            pos[root] = (xcenter, vert_loc)\n",
    "        children = list(G.neighbors(root))\n",
    "        if not isinstance(G, nx.DiGraph) and parent is not None:\n",
    "            children.remove(parent)  \n",
    "        if len(children)!=0:\n",
    "            dx = width/len(children) \n",
    "            nextx = xcenter - width/2 - dx/2\n",
    "            for child in children:\n",
    "                nextx += dx\n",
    "                pos = _hierarchy_pos(G,child, width = 2*dx, vert_gap = vert_gap, \n",
    "                                    vert_loc = vert_loc-vert_gap, xcenter=nextx,\n",
    "                                    pos=pos, parent = root)\n",
    "        return pos\n",
    "\n",
    "            \n",
    "    return _hierarchy_pos(G, root, width, vert_gap, vert_loc, xcenter)"
   ]
  },
  {
   "cell_type": "markdown",
   "id": "7545e9ec",
   "metadata": {},
   "source": [
    "## Plot Learned Structure in two ways, directed and undirected graph"
   ]
  },
  {
   "cell_type": "code",
   "execution_count": 82,
   "id": "2388da53",
   "metadata": {},
   "outputs": [
    {
     "data": {
      "image/png": "[encoded data removed]",
      "text/plain": [
       "<Figure size 640x480 with 1 Axes>"
      ]
     },
     "metadata": {},
     "output_type": "display_data"
    }
   ],
   "source": [
    "# Plot directed hierarchical graph\n",
    "#G = bn.plot(DAG)\n",
    "# Convert Bayesian network structure to a hierarchical structure (DAG)\n",
    "G = nx.DiGraph()\n",
    "#G.add_edges_from(model.edges())\n",
    "G.add_edges_from(DAG['model_edges'])\n",
    "\n",
    "# Plot the hierarchical structure\n",
    "plt.title('Hierarchical Layout of Directed Learned Structure')\n",
    "pos = hierarchy_pos(G) \n",
    "nx.draw_networkx(G, pos, with_labels=True, arrows=True, node_color=\"lightblue\", node_size=1000, font_size=9)\n",
    "\n",
    "plt.savefig('BN_structure_directed.png')"
   ]
  },
  {
   "cell_type": "code",
   "execution_count": 83,
   "id": "7e5875ce",
   "metadata": {},
   "outputs": [
    {
     "data": {
      "image/png": "[encoded data removed]",
      "text/plain": [
       "<Figure size 640x480 with 1 Axes>"
      ]
     },
     "metadata": {},
     "output_type": "display_data"
    }
   ],
   "source": [
    "# Plot directed hierarchical graph\n",
    "G = nx.Graph()\n",
    "#G.add_edges_from(model.edges())\n",
    "G.add_edges_from(DAG['model_edges'])\n",
    "\n",
    "# Plot the hierarchical structure\n",
    "plt.title('Layout of Undirected Learned Structure')\n",
    "nx.draw_networkx(G, with_labels=True, arrows=True, node_color=\"lightblue\", node_size=1000, font_size=9)\n",
    "\n",
    "plt.savefig('BN_structure_undirected.png')"
   ]
  },
  {
   "cell_type": "markdown",
   "id": "3c798fd0",
   "metadata": {},
   "source": [
    "# Parameter Learning"
   ]
  },
  {
   "cell_type": "code",
   "execution_count": 84,
   "id": "5f224bc4",
   "metadata": {},
   "outputs": [
    {
     "name": "stdout",
     "output_type": "stream",
     "text": [
      "[bnlearn] >Parameter learning> Computing parameters using [bayes]\n",
      "[bnlearn] >Converting [<class 'pgmpy.base.DAG.DAG'>] to BayesianNetwork model.\n",
      "[bnlearn] >Converting adjmat to BayesianNetwork.\n",
      "[bnlearn] >CPD of Duration_class:\n",
      "+-------------------+----------+\n",
      "| Duration_class(0) | 0.403019 |\n",
      "+-------------------+----------+\n",
      "| Duration_class(1) | 0.299064 |\n",
      "+-------------------+----------+\n",
      "| Duration_class(2) | 0.175998 |\n",
      "+-------------------+----------+\n",
      "| Duration_class(3) | 0.121919 |\n",
      "+-------------------+----------+\n",
      "[bnlearn] >CPD of Truck involved:\n",
      "+-------------------+---------------------+--------------------+---------------------+---------------------+\n",
      "| Duration_class    | Duration_class(0)   | Duration_class(1)  | Duration_class(2)   | Duration_class(3)   |\n",
      "+-------------------+---------------------+--------------------+---------------------+---------------------+\n",
      "| Truck involved(0) | 0.9364627785680417  | 0.2230031948881789 | 0.14332247557003258 | 0.19592476489028213 |\n",
      "+-------------------+---------------------+--------------------+---------------------+---------------------+\n",
      "| Truck involved(1) | 0.06353722143195828 | 0.7769968051118211 | 0.8566775244299675  | 0.8040752351097179  |\n",
      "+-------------------+---------------------+--------------------+---------------------+---------------------+\n",
      "[bnlearn] >CPD of Injury involved:\n",
      "+--------------------+---------------------+---------------------+--------------------+---------------------+\n",
      "| Duration_class     | Duration_class(0)   | Duration_class(1)   | Duration_class(2)  | Duration_class(3)   |\n",
      "+--------------------+---------------------+---------------------+--------------------+---------------------+\n",
      "| Injury involved(0) | 0.9018492176386913  | 0.08242811501597444 | 0.6199782844733985 | 0.19592476489028213 |\n",
      "+--------------------+---------------------+---------------------+--------------------+---------------------+\n",
      "| Injury involved(1) | 0.09815078236130868 | 0.9175718849840255  | 0.3800217155266015 | 0.8040752351097179  |\n",
      "+--------------------+---------------------+---------------------+--------------------+---------------------+\n",
      "[bnlearn] >CPD of Fire involved:\n",
      "+------------------+---------------------+---------------------+---------------------+---------------------+\n",
      "| Duration_class   | Duration_class(0)   | Duration_class(1)   | Duration_class(2)   | Duration_class(3)   |\n",
      "+------------------+---------------------+---------------------+---------------------+---------------------+\n",
      "| Fire involved(0) | 0.9407302038880986  | 0.7789137380191693  | 0.14332247557003258 | 0.19592476489028213 |\n",
      "+------------------+---------------------+---------------------+---------------------+---------------------+\n",
      "| Fire involved(1) | 0.05926979611190138 | 0.22108626198083067 | 0.8566775244299675  | 0.8040752351097179  |\n",
      "+------------------+---------------------+---------------------+---------------------+---------------------+\n",
      "[bnlearn] >CPD of Direction:\n",
      "+----------------+----------------------+---------------------+---------------------+---------------------+\n",
      "| Duration_class | Duration_class(0)    | Duration_class(1)   | Duration_class(2)   | Duration_class(3)   |\n",
      "+----------------+----------------------+---------------------+---------------------+---------------------+\n",
      "| Direction(1)   | 0.28733997155049784  | 0.2722044728434505  | 0.1986970684039088  | 0.22413793103448276 |\n",
      "+----------------+----------------------+---------------------+---------------------+---------------------+\n",
      "| Direction(2)   | 0.27453769559032715  | 0.23706070287539935 | 0.248642779587405   | 0.23981191222570533 |\n",
      "+----------------+----------------------+---------------------+---------------------+---------------------+\n",
      "| Direction(3)   | 0.21526789947842578  | 0.2319488817891374  | 0.2681867535287731  | 0.2304075235109718  |\n",
      "+----------------+----------------------+---------------------+---------------------+---------------------+\n",
      "| Direction(4)   | 0.19535324798482692  | 0.22492012779552717 | 0.2258414766558089  | 0.22570532915360503 |\n",
      "+----------------+----------------------+---------------------+---------------------+---------------------+\n",
      "| Direction(5)   | 0.027501185395922237 | 0.03386581469648562 | 0.05863192182410423 | 0.07993730407523511 |\n",
      "+----------------+----------------------+---------------------+---------------------+---------------------+\n",
      "[bnlearn] >CPD of County:\n",
      "+-----------+---------------------+---------------------+-----+----------------------+---------------------+\n",
      "| Direction | Direction(1)        | Direction(2)        | ... | Direction(4)         | Direction(5)        |\n",
      "+-----------+---------------------+---------------------+-----+----------------------+---------------------+\n",
      "| County(0) | 0.16789396170839468 | 0.12312312312312312 | ... | 0.1989247311827957   | 0.21296296296296297 |\n",
      "+-----------+---------------------+---------------------+-----+----------------------+---------------------+\n",
      "| County(1) | 0.2923416789396171  | 0.3033033033033033  | ... | 0.042114695340501794 | 0.20833333333333334 |\n",
      "+-----------+---------------------+---------------------+-----+----------------------+---------------------+\n",
      "| County(2) | 0.3954344624447717  | 0.41516516516516516 | ... | 0.25268817204301075  | 0.20833333333333334 |\n",
      "+-----------+---------------------+---------------------+-----+----------------------+---------------------+\n",
      "| County(3) | 0.07511045655375552 | 0.07657657657657657 | ... | 0.4650537634408602   | 0.18518518518518517 |\n",
      "+-----------+---------------------+---------------------+-----+----------------------+---------------------+\n",
      "| County(4) | 0.06921944035346098 | 0.08183183183183183 | ... | 0.04121863799283154  | 0.18518518518518517 |\n",
      "+-----------+---------------------+---------------------+-----+----------------------+---------------------+\n",
      "[bnlearn] >CPD of Lane Closure Type:\n",
      "+----------------------+---------------------+-----+---------------------+---------------------+\n",
      "| Direction            | Direction(1)        | ... | Direction(4)        | Direction(5)        |\n",
      "+----------------------+---------------------+-----+---------------------+---------------------+\n",
      "| Lane Closure Type(0) | 0.04197349042709867 | ... | 0.04659498207885305 | 0.23148148148148148 |\n",
      "+----------------------+---------------------+-----+---------------------+---------------------+\n",
      "| Lane Closure Type(1) | 0.6126656848306333  | ... | 0.5439068100358423  | 0.2962962962962963  |\n",
      "+----------------------+---------------------+-----+---------------------+---------------------+\n",
      "| Lane Closure Type(2) | 0.2650957290132548  | ... | 0.32974910394265233 | 0.2361111111111111  |\n",
      "+----------------------+---------------------+-----+---------------------+---------------------+\n",
      "| Lane Closure Type(3) | 0.08026509572901326 | ... | 0.07974910394265233 | 0.2361111111111111  |\n",
      "+----------------------+---------------------+-----+---------------------+---------------------+\n",
      "[bnlearn] >CPD of TOD:\n",
      "+-------------------+----------------------+----------------------+----------------------+----------------------+\n",
      "| Lane Closure Type | Lane Closure Type(0) | Lane Closure Type(1) | Lane Closure Type(2) | Lane Closure Type(3) |\n",
      "+-------------------+----------------------+----------------------+----------------------+----------------------+\n",
      "| TOD(0)            | 0.5330882352941176   | 0.8483935742971888   | 0.6437459070072037   | 0.5426008968609866   |\n",
      "+-------------------+----------------------+----------------------+----------------------+----------------------+\n",
      "| TOD(1)            | 0.46691176470588236  | 0.15160642570281124  | 0.3562540929927963   | 0.45739910313901344  |\n",
      "+-------------------+----------------------+----------------------+----------------------+----------------------+\n",
      "[bnlearn] >CPD of SeasonofYear:\n",
      "+-------------------+----------------------+----------------------+----------------------+----------------------+\n",
      "| Lane Closure Type | Lane Closure Type(0) | Lane Closure Type(1) | Lane Closure Type(2) | Lane Closure Type(3) |\n",
      "+-------------------+----------------------+----------------------+----------------------+----------------------+\n",
      "| SeasonofYear(0)   | 0.33946078431372545  | 0.4887327086122267   | 0.4461907880375464   | 0.40209267563527656  |\n",
      "+-------------------+----------------------+----------------------+----------------------+----------------------+\n",
      "| SeasonofYear(1)   | 0.33578431372549017  | 0.2778893351182508   | 0.26609910499890854  | 0.30343796711509713  |\n",
      "+-------------------+----------------------+----------------------+----------------------+----------------------+\n",
      "| SeasonofYear(2)   | 0.32475490196078427  | 0.23337795626952254  | 0.28771010696354504  | 0.2944693572496263   |\n",
      "+-------------------+----------------------+----------------------+----------------------+----------------------+\n",
      "[bnlearn] >CPD of PeakHour:\n",
      "+-------------+--------------------+---------------------+\n",
      "| TOD         | TOD(0)             | TOD(1)              |\n",
      "+-------------+--------------------+---------------------+\n",
      "| PeakHour(0) | 0.4765685019206146 | 0.8117469879518072  |\n",
      "+-------------+--------------------+---------------------+\n",
      "| PeakHour(1) | 0.5234314980793854 | 0.18825301204819278 |\n",
      "+-------------+--------------------+---------------------+\n",
      "[bnlearn] >CPD of DayofWeek:\n",
      "+--------------+---------------------+---------------------+\n",
      "| TOD          | TOD(0)              | TOD(1)              |\n",
      "+--------------+---------------------+---------------------+\n",
      "| DayofWeek(0) | 0.745966709346991   | 0.5775602409638554  |\n",
      "+--------------+---------------------+---------------------+\n",
      "| DayofWeek(1) | 0.25403329065300895 | 0.42243975903614456 |\n",
      "+--------------+---------------------+---------------------+\n",
      "[bnlearn] >Compute structure scores for model comparison (higher is better).\n"
     ]
    },
    {
     "data": {
      "text/plain": [
       "(Direction ⟂ Fire involved, Truck involved, Injury involved | Duration_class)\n",
       "(County ⟂ TOD, Duration_class, SeasonofYear, DayofWeek, Truck involved, Lane Closure Type, Fire involved, Injury involved, PeakHour | Direction)\n",
       "(TOD ⟂ Duration_class, SeasonofYear, Direction, Truck involved, Injury involved, Fire involved, County | Lane Closure Type)\n",
       "(PeakHour ⟂ Duration_class, SeasonofYear, Direction, Truck involved, Lane Closure Type, Fire involved, Injury involved, County, DayofWeek | TOD)\n",
       "(DayofWeek ⟂ Duration_class, SeasonofYear, Direction, Truck involved, Lane Closure Type, Fire involved, Injury involved, County, PeakHour | TOD)\n",
       "(SeasonofYear ⟂ TOD, Duration_class, Direction, DayofWeek, Truck involved, Fire involved, Injury involved, County, PeakHour | Lane Closure Type)\n",
       "(Injury involved ⟂ TOD, SeasonofYear, Direction, DayofWeek, Truck involved, Lane Closure Type, Fire involved, County, PeakHour | Duration_class)\n",
       "(Truck involved ⟂ TOD, SeasonofYear, Direction, DayofWeek, Lane Closure Type, Fire involved, Injury involved, County, PeakHour | Duration_class)\n",
       "(Lane Closure Type ⟂ Duration_class, Truck involved, Injury involved, Fire involved, County | Direction)\n",
       "(Fire involved ⟂ TOD, SeasonofYear, Direction, DayofWeek, Truck involved, Lane Closure Type, Injury involved, County, PeakHour | Duration_class)"
      ]
     },
     "execution_count": 84,
     "metadata": {},
     "output_type": "execute_result"
    }
   ],
   "source": [
    "# Parameter learning\n",
    "model = bn.parameter_learning.fit(DAG, dfnum, verbose=3);\n",
    "model = BayesianNetwork(ebunch=DAG['model_edges'])\n",
    "bayes = BayesianEstimator(model=model, data = data)\n",
    "model.fit(dfnum, estimator=BayesianEstimator, prior_type='BDeu',equivalent_sample_size=10,\n",
    "          complete_samples_only=False)\n",
    "model.local_independencies(bayes.variables)"
   ]
  },
  {
   "cell_type": "markdown",
   "id": "232954cd",
   "metadata": {},
   "source": [
    "# Validation"
   ]
  },
  {
   "cell_type": "code",
   "execution_count": 85,
   "id": "553307df",
   "metadata": {
    "scrolled": true
   },
   "outputs": [
    {
     "data": {
      "application/vnd.jupyter.widget-view+json": {
       "model_id": "1472d479672f46c78597b37f109d766c",
       "version_major": 2,
       "version_minor": 0
      },
      "text/plain": [
       "  0%|          | 0/374 [00:00<?, ?it/s]"
      ]
     },
     "metadata": {},
     "output_type": "display_data"
    },
    {
     "name": "stdout",
     "output_type": "stream",
     "text": [
      "     Duration_class\n",
      "0                 1\n",
      "1                 3\n",
      "2                 0\n",
      "3                 0\n",
      "4                 0\n",
      "..              ...\n",
      "466               0\n",
      "467               0\n",
      "468               0\n",
      "469               1\n",
      "470               2\n",
      "\n",
      "[471 rows x 1 columns]\n",
      "Accuracy - 0.9256900212314225\n"
     ]
    }
   ],
   "source": [
    "acc1 = get_acc(model, valid, 'Duration_class')"
   ]
  },
  {
   "cell_type": "code",
   "execution_count": 86,
   "id": "d311aa77",
   "metadata": {
    "scrolled": false
   },
   "outputs": [
    {
     "data": {
      "application/vnd.jupyter.widget-view+json": {
       "model_id": "35078fb74e4049888b7113aebbb0f2a7",
       "version_major": 2,
       "version_minor": 0
      },
      "text/plain": [
       "  0%|          | 0/374 [00:00<?, ?it/s]"
      ]
     },
     "metadata": {},
     "output_type": "display_data"
    },
    {
     "name": "stdout",
     "output_type": "stream",
     "text": [
      "     Duration_class\n",
      "0                 1\n",
      "1                 3\n",
      "2                 0\n",
      "3                 0\n",
      "4                 0\n",
      "..              ...\n",
      "466               0\n",
      "467               0\n",
      "468               0\n",
      "469               1\n",
      "470               2\n",
      "\n",
      "[471 rows x 1 columns]\n",
      "precision, recall, f1 - (array([0.98984772, 0.95783133, 1.        , 0.59375   ]), array([0.97014925, 0.99375   , 0.61111111, 1.        ]), array([0.9798995 , 0.97546012, 0.75862069, 0.74509804]), array([201, 160,  72,  38], dtype=int64))\n"
     ]
    }
   ],
   "source": [
    "acc2 = get_acc_label(model, valid, 'Duration_class', [0,1,2,3])"
   ]
  },
  {
   "cell_type": "markdown",
   "id": "adb41587",
   "metadata": {},
   "source": [
    "# Inference: Dealing with Missing Information"
   ]
  },
  {
   "cell_type": "markdown",
   "id": "59e1d969",
   "metadata": {},
   "source": [
    "### BN predicts the TID based on probabilistic inference, which is capable of dealing with missing information. The following two scenarios show the prediction of TID with some missing variables."
   ]
  },
  {
   "cell_type": "markdown",
   "id": "8da29072",
   "metadata": {},
   "source": [
    "## Scenario#1: Predicting TID with missing Fire Truck Involvement information"
   ]
  },
  {
   "cell_type": "code",
   "execution_count": 87,
   "id": "6023b056",
   "metadata": {},
   "outputs": [],
   "source": [
    "#Inference with complete information\n",
    "inference = VariableElimination(model)\n",
    "# evidence = valid.iloc[0,:-1]\n",
    "# result=inference.query(variables=['Duration_class'], evidence=evidence)\n",
    "# print(result)"
   ]
  },
  {
   "cell_type": "code",
   "execution_count": 88,
   "id": "b9b9676a",
   "metadata": {},
   "outputs": [
    {
     "name": "stdout",
     "output_type": "stream",
     "text": [
      "+-------------------+-----------------------+\n",
      "| Duration_class    |   phi(Duration_class) |\n",
      "+===================+=======================+\n",
      "| Duration_class(0) |                0.0002 |\n",
      "+-------------------+-----------------------+\n",
      "| Duration_class(1) |                0.6302 |\n",
      "+-------------------+-----------------------+\n",
      "| Duration_class(2) |                0.1327 |\n",
      "+-------------------+-----------------------+\n",
      "| Duration_class(3) |                0.2369 |\n",
      "+-------------------+-----------------------+\n"
     ]
    }
   ],
   "source": [
    "#Inference with missing Fire Truck Involvement information\n",
    "evidence = {'Direction':4, \n",
    "            'County': 3, \n",
    "            'TOD': 0, \n",
    "            'PeakHour': 1, \n",
    "            'DayofWeek': 0, \n",
    "            'SeasonofYear': 1,\n",
    "           'Injury involved': 1,\n",
    "           'Truck involved': 1,\n",
    "           'Lane Closure Type': 1}\n",
    "           #'Fire involved': 0}\n",
    "result=inference.query(variables=['Duration_class'], evidence=evidence)\n",
    "print(result)"
   ]
  },
  {
   "cell_type": "markdown",
   "id": "b477f410",
   "metadata": {},
   "source": [
    "## Scenario#2: Predicting TID with missing Fire Truck and Injury information"
   ]
  },
  {
   "cell_type": "code",
   "execution_count": 89,
   "id": "d91a0382",
   "metadata": {},
   "outputs": [
    {
     "name": "stdout",
     "output_type": "stream",
     "text": [
      "+-------------------+-----------------------+\n",
      "| Duration_class    |   phi(Duration_class) |\n",
      "+===================+=======================+\n",
      "| Duration_class(0) |                0.0040 |\n",
      "+-------------------+-----------------------+\n",
      "| Duration_class(1) |                0.4980 |\n",
      "+-------------------+-----------------------+\n",
      "| Duration_class(2) |                0.3109 |\n",
      "+-------------------+-----------------------+\n",
      "| Duration_class(3) |                0.1871 |\n",
      "+-------------------+-----------------------+\n"
     ]
    }
   ],
   "source": [
    "#Inference with missing Fire Involvement and Injury information\n",
    "evidence = {'Direction':4, \n",
    "            'County': 3, \n",
    "            'TOD': 0, \n",
    "            'PeakHour': 1, \n",
    "            'DayofWeek': 0, \n",
    "            'SeasonofYear': 1,\n",
    "            #'Injury involved': 1,\n",
    "           'Truck involved': 1,\n",
    "           'Lane Closure Type': 1\n",
    "           #'Fire involved': 0\n",
    "           }\n",
    "result=inference.query(variables=['Duration_class'], evidence=evidence)\n",
    "print(result)"
   ]
  },
  {
   "cell_type": "markdown",
   "id": "a1b05b33",
   "metadata": {},
   "source": [
    "# Decision-making using probabilistic inference"
   ]
  },
  {
   "cell_type": "markdown",
   "id": "d92aa3f4",
   "metadata": {},
   "source": [
    "### The probabilistic inference in BN also enables to manipulate the certainty in the selected variables, thereby ensuring the creation of scenario-based network structure, more details about probabilistic inference using BN can be found in Section 4 in [Ozbay and Noyan's paper](https://www.sciencedirect.com/science/article/pii/S0001457505002009?casa_token=8Jj4Vss1w-MAAAAA:9BSQ7A1TuJYxhdad2cStk5U0eNZFPRjDMxTfzIdP1rNcB2ZmImMZG3lUhFz8_VX-CvqE7evg)"
   ]
  },
  {
   "cell_type": "code",
   "execution_count": 90,
   "id": "acfc28f3",
   "metadata": {},
   "outputs": [
    {
     "data": {
      "image/png": "[encoded data removed]",
      "text/plain": [
       "<Figure size 640x480 with 1 Axes>"
      ]
     },
     "metadata": {},
     "output_type": "display_data"
    }
   ],
   "source": [
    "img=mpimg.imread('BN_structure_directed.png')\n",
    "plt.imshow(img)\n",
    "plt.axis('off')\n",
    "plt.show()"
   ]
  },
  {
   "cell_type": "code",
   "execution_count": 91,
   "id": "a27af496",
   "metadata": {},
   "outputs": [
    {
     "name": "stdout",
     "output_type": "stream",
     "text": [
      "+-------------------+-----------------------+\n",
      "| Duration_class    |   phi(Duration_class) |\n",
      "+===================+=======================+\n",
      "| Duration_class(0) |                0.0000 |\n",
      "+-------------------+-----------------------+\n",
      "| Duration_class(1) |                0.2326 |\n",
      "+-------------------+-----------------------+\n",
      "| Duration_class(2) |                0.2785 |\n",
      "+-------------------+-----------------------+\n",
      "| Duration_class(3) |                0.4890 |\n",
      "+-------------------+-----------------------+\n",
      "+--------------+------------------+\n",
      "| Direction    |   phi(Direction) |\n",
      "+==============+==================+\n",
      "| Direction(1) |           0.2502 |\n",
      "+--------------+------------------+\n",
      "| Direction(2) |           0.2690 |\n",
      "+--------------+------------------+\n",
      "| Direction(3) |           0.2514 |\n",
      "+--------------+------------------+\n",
      "| Direction(4) |           0.2239 |\n",
      "+--------------+------------------+\n",
      "| Direction(5) |           0.0055 |\n",
      "+--------------+------------------+\n",
      "+-----------+---------------+\n",
      "| County    |   phi(County) |\n",
      "+===========+===============+\n",
      "| County(0) |        0.1738 |\n",
      "+-----------+---------------+\n",
      "| County(1) |        0.1673 |\n",
      "+-----------+---------------+\n",
      "| County(2) |        0.3510 |\n",
      "+-----------+---------------+\n",
      "| County(3) |        0.2747 |\n",
      "+-----------+---------------+\n",
      "| County(4) |        0.0332 |\n",
      "+-----------+---------------+\n",
      "+--------+------------+\n",
      "| TOD    |   phi(TOD) |\n",
      "+========+============+\n",
      "| TOD(0) |     0.8799 |\n",
      "+--------+------------+\n",
      "| TOD(1) |     0.1201 |\n",
      "+--------+------------+\n",
      "+-----------------+---------------------+\n",
      "| SeasonofYear    |   phi(SeasonofYear) |\n",
      "+=================+=====================+\n",
      "| SeasonofYear(0) |              0.5028 |\n",
      "+-----------------+---------------------+\n",
      "| SeasonofYear(1) |              0.2729 |\n",
      "+-----------------+---------------------+\n",
      "| SeasonofYear(2) |              0.2244 |\n",
      "+-----------------+---------------------+\n",
      "+-------------+-----------------+\n",
      "| PeakHour    |   phi(PeakHour) |\n",
      "+=============+=================+\n",
      "| PeakHour(0) |          0.5361 |\n",
      "+-------------+-----------------+\n",
      "| PeakHour(1) |          0.4639 |\n",
      "+-------------+-----------------+\n",
      "+--------------+------------------+\n",
      "| DayofWeek    |   phi(DayofWeek) |\n",
      "+==============+==================+\n",
      "| DayofWeek(0) |           0.7627 |\n",
      "+--------------+------------------+\n",
      "| DayofWeek(1) |           0.2373 |\n",
      "+--------------+------------------+\n"
     ]
    }
   ],
   "source": [
    "evidence = {'Injury involved': 1,\n",
    "           'Truck involved': 1,\n",
    "           'Lane Closure Type': 1,\n",
    "           'Fire involved': 1}\n",
    "model.nodes()\n",
    "for node in model.nodes():\n",
    "    if node not in evidence:\n",
    "        result=inference.query(variables=[node], evidence=evidence)\n",
    "        print(result)"
   ]
  },
  {
   "cell_type": "markdown",
   "id": "aa2e37d3",
   "metadata": {},
   "source": [
    "# Prediction"
   ]
  },
  {
   "cell_type": "code",
   "execution_count": 92,
   "id": "92f1fe58",
   "metadata": {},
   "outputs": [
    {
     "data": {
      "application/vnd.jupyter.widget-view+json": {
       "model_id": "340e83dcbc4c461dbf2ce95c8ea8a181",
       "version_major": 2,
       "version_minor": 0
      },
      "text/plain": [
       "  0%|          | 0/911 [00:00<?, ?it/s]"
      ]
     },
     "metadata": {},
     "output_type": "display_data"
    }
   ],
   "source": [
    "result_pred = model.predict(test.iloc[:,:-1])"
   ]
  },
  {
   "cell_type": "code",
   "execution_count": 93,
   "id": "f9e208bb",
   "metadata": {},
   "outputs": [
    {
     "name": "stdout",
     "output_type": "stream",
     "text": [
      "Test accuracy score - 0.9165073295092415\n",
      "Test precision, recall, F1-score and Sample Size - (array([0.99196141, 0.93647913, 1.        , 0.60434783]), array([0.95069337, 0.99806576, 0.62878788, 1.        ]), array([0.97088906, 0.96629213, 0.77209302, 0.75338753]), array([649, 517, 264, 139], dtype=int64))\n"
     ]
    }
   ],
   "source": [
    "acc_test=accuracy_score(test['Duration_class'], result_pred)\n",
    "acc_label_test=precision_recall_fscore_support(test['Duration_class'], result_pred, labels=[0,1,2,3])\n",
    "print(\"Test accuracy score -\", acc_test)\n",
    "print(\"Test precision, recall, F1-score and Sample Size -\", acc_label_test)"
   ]
  },
  {
   "cell_type": "code",
   "execution_count": 94,
   "id": "34b16977",
   "metadata": {},
   "outputs": [],
   "source": [
    "test['Duration_class']\n",
    "ytest=label_binarize(test['Duration_class'], classes=[0,1,2,3])\n",
    "ypred = label_binarize(result_pred, classes=[0,1,2,3])"
   ]
  },
  {
   "cell_type": "markdown",
   "id": "bd76edc0",
   "metadata": {},
   "source": [
    "# TPR, FPR and AUC"
   ]
  },
  {
   "cell_type": "code",
   "execution_count": 95,
   "id": "db14474c",
   "metadata": {
    "scrolled": false
   },
   "outputs": [],
   "source": [
    "ytest=label_binarize(test['Duration_class'], classes=[0,1,2,3])\n",
    "fpr, tpr = dict(), dict()\n",
    "roc_auc = dict()\n",
    "n_classes = 4\n",
    "for i in range(n_classes):\n",
    "    fpr[i], tpr[i], _ = roc_curve(ytest[:,i], ypred[:,i])\n",
    "    roc_auc[i] = auc(fpr[i], tpr[i])\n",
    "\n",
    "# for i in range(n_classes):\n",
    "#     plt.figure()\n",
    "#     plt.plot(fpr[i], tpr[i], label='ROC curve (area = %0.2f)' % roc_auc[i])\n",
    "#     plt.plot([0,1],[0,1], 'k--')\n",
    "#     plt.xlim([0.0, 1.0])\n",
    "#     plt.ylim([0.0, 1.04])\n",
    "#     plt.xlabel('False Positive Rate')\n",
    "#     plt.ylabel('True Positive Rate')\n",
    "#     plt.title('AUC-ROC for TID (Duration Class=%0.0f)' % i)\n",
    "#     plt.legend(loc='lower right')\n",
    "#     plt.show()\n",
    "#     plt.savefig('AUC_ROC for TID (Duration Class=%0.0f).png' %i)"
   ]
  },
  {
   "cell_type": "code",
   "execution_count": 96,
   "id": "f124c28d",
   "metadata": {},
   "outputs": [
    {
     "name": "stdout",
     "output_type": "stream",
     "text": [
      "Class 0: true positive rate (TPR) is 0.95, false positive rate (FPR) is 0.01, AUC score is 0.97\n",
      "Class 1: true positive rate (TPR) is 1.00, false positive rate (FPR) is 0.03, AUC score is 0.98\n",
      "Class 2: true positive rate (TPR) is 0.63, false positive rate (FPR) is 0.00, AUC score is 0.81\n",
      "Class 3: true positive rate (TPR) is 1.00, false positive rate (FPR) is 0.06, AUC score is 0.97\n"
     ]
    }
   ],
   "source": [
    "roc_auc\n",
    "tpr\n",
    "fpr[0][1]\n",
    "for i in range(n_classes):\n",
    "    print(\"Class {}: true positive rate (TPR) is {:.2f}, false positive rate (FPR) is {:.2f}, AUC score is {:.2f}\".format(i, tpr[i][1], fpr[i][1], roc_auc[i]))"
   ]
  },
  {
   "cell_type": "markdown",
   "id": "7f22b108",
   "metadata": {},
   "source": [
    "| TID Class                      | TPR   | FPR   | AUC  |\n",
    "| ------------------------------ | ----- | ----- | ---- |\n",
    "| Class 0 (0-30 min)             | 0.95  | 0.01  | 0.97 |\n",
    "| Class 1 (30-60 min)            | 1.00  | 0.03  | 0.98 |\n",
    "| Class 2 (60-90 min)            | 0.63  | 0     | 0.81 |\n",
    "| Class 3 (Larger than 90 min)   | 1.00  | 0.06  | 0.97 |\n",
    "| **Overall Accuracy**           | **91.6%** | | |\n",
    "\n",
    "*The overall accuracy score is 91.6%, which is acceptable based on [Li's paper](https://etrr.springeropen.com/articles/10.1186/s12544-018-0300-1). They summarized the acceptable accuracy of existing traffic incident duration prediction studies, ranging around 60%-70% (shown in Table 3.) For TPR, ideally close to 1.0; >0.7 or 0.8 is often considered good. For FPR, ideally close to 0; <0.1 or 0.05 is considered good. For AUC, >0.7 is acceptable; >0.8 is good; >0.9 is excellent."
   ]
  }
 ],
 "metadata": {
  "kernelspec": {
   "display_name": "bayesian-net-test1",
   "language": "python",
   "name": "bayesian-net-test1"
  },
  "language_info": {
   "codemirror_mode": {
    "name": "ipython",
    "version": 3
   },
   "file_extension": ".py",
   "mimetype": "text/x-python",
   "name": "python",
   "nbconvert_exporter": "python",
   "pygments_lexer": "ipython3",
   "version": "3.8.17"
  }
 },
 "nbformat": 4,
 "nbformat_minor": 5
}
